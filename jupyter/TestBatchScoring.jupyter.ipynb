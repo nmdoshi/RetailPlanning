{
 "cells": [
  {
   "cell_type": "code",
   "execution_count": null,
   "metadata": {
    "collapsed": true,
    "deletable": true,
    "editable": true
   },
   "outputs": [],
   "source": [
    "#!/usr/bin/python\n",
    "\n",
    "import sys, os\n",
    "from pyspark.sql import SparkSession\n",
    "from pyspark.ml import Pipeline, Model, PipelineModel\n",
    "from pyspark.sql import SQLContext\n",
    "import pandas\n",
    "import json\n",
    "sys.path.insert(0, '/user-home/.scripts/common-helpers')\n",
    "import published_model_util, dsx_core_utils\n",
    "\n",
    "# define variables\n",
    "args={u'target': u'/datasets/Test.csv', u'output_datasource_type': u'', u'execution_type': u'DSX', u'source': u'/datasets/TelcoModelEval_Prebuilt.csv', u'output_type': u'Localfile', u'sysparm': u''}\n",
    "input_data = os.getenv(\"DSX_PROJECT_DIR\")+args.get(\"source\")\n",
    "output_data = os.getenv(\"DSX_PROJECT_DIR\")+args.get(\"target\")\n",
    "model_name = 'PrebuiltModel_TelcoChurn'\n",
    "model_path = os.getenv(\"DSX_PROJECT_DIR\")+\"/models/PrebuiltModel_TelcoChurn/1/model\"\n",
    "project_name = 'DSX_Demos_el'\n",
    "is_published = 'false'\n",
    "\n",
    "# create spark context\n",
    "spark = SparkSession.builder.getOrCreate()\n",
    "sc = spark.sparkContext\n",
    "\n",
    "# read test dataframe (inputJson = \"input.json\") \n",
    "testDF = SQLContext(sc).read.csv(input_data , header='true', inferSchema = 'true')\n",
    "\n",
    "published_path = ''\n",
    "if is_published == 'true':\n",
    "    copy_result = json.loads(published_model_util.copy_model(project_name, model_name))\n",
    "    if(copy_result['code'] == 200):\n",
    "        model_path = copy_result['path'] + '/model'\n",
    "        published_path = copy_result['path']\n",
    "    else:\n",
    "        raise Exception('Unable to score published model: ' + copy_result['description'])\n",
    "\n",
    "#load model\n",
    "model_rf = PipelineModel.load(model_path)\n",
    "\n",
    "#prediction\n",
    "outputDF = model_rf.transform(testDF) \n",
    "\n",
    "# save scoring result to given target\n",
    "scoring_df = outputDF.toPandas()\n",
    "\n",
    "# save output to csv\n",
    "scoring_df.to_csv(output_data)\n",
    "\n",
    "if (len(published_path) > 0):\n",
    "    published_model_util.delete_temp_model()"
   ]
  }
 ],
 "metadata": {
  "kernelspec": {
   "display_name": "Python2.7 with DSX Spark 2.0.2",
   "language": "python",
   "name": "python2"
  },
  "language_info": {
   "codemirror_mode": {
    "name": "ipython",
    "version": 2
   },
   "file_extension": ".py",
   "mimetype": "text/x-python",
   "name": "python",
   "nbconvert_exporter": "python",
   "pygments_lexer": "ipython2",
   "version": "2.7.13"
  }
 },
 "nbformat": 4,
 "nbformat_minor": 2
}
