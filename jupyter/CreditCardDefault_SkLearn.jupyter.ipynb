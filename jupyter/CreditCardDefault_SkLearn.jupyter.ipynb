{
 "cells": [
  {
   "cell_type": "markdown",
   "metadata": {
    "deletable": true,
    "editable": true
   },
   "source": [
    "<h1 id=\"tocheading\">Attrition Demo</h1>\n",
    "<div id=\"toc\"></div>\n",
    "\n",
    "<img src=\"https://github.com/elenalowery/DSX_Local_Workshop/blob/master/img/CC_Intro.JPG?raw=true\" width=\"800\" height=\"500\" align=\"middle\"/>"
   ]
  },
  {
   "cell_type": "markdown",
   "metadata": {
    "collapsed": true,
    "deletable": true,
    "editable": true
   },
   "source": [
    "The Attrition demo focuses on retaining Merchants that are using company network for credit card processing. Here is the description of the case:\n",
    "\n",
    "A client approved many low value merchant accounts without much scrutiny.  Many of those merchant accounts resulted in default. The client thinks that they should have put more of an emphasis on their applicant screening process. IBM suggests to enable fact based decision making for performance of its joint marketing programs.\n",
    "\n",
    "This notebook will demostrate how to\n",
    "\n",
    "1. Use Brunel and Seaborn library for visualizations\n",
    "\n",
    "2. Use regular python Machine Learning libary scikit-learn and Spark's Machine Learning library(MLlib) for predicitive modeling in an intergrated environment on DSX.\n",
    "3. Deploy SparkML model using Machine Learning Service"
   ]
  },
  {
   "cell_type": "markdown",
   "metadata": {
    "deletable": true,
    "editable": true
   },
   "source": [
    "## Set up environment"
   ]
  },
  {
   "cell_type": "code",
   "execution_count": null,
   "metadata": {
    "collapsed": true,
    "deletable": true,
    "editable": true
   },
   "outputs": [],
   "source": [
    "import sklearn\n",
    "\n",
    "import pandas as pd\n",
    "pd.options.display.max_columns = 999\n",
    "\n",
    "import brunel\n",
    "\n",
    "import warnings\n",
    "warnings.filterwarnings('ignore')\n",
    "\n",
    "from scipy.stats import chi2_contingency,ttest_ind\n",
    "import matplotlib.pyplot as plt\n",
    "import seaborn as sns\n",
    "%matplotlib inline\n",
    "\n",
    "\n",
    "from sklearn.cross_validation import train_test_split, StratifiedKFold\n",
    "from sklearn.preprocessing import MinMaxScaler, LabelEncoder\n",
    "from sklearn.ensemble import RandomForestClassifier\n",
    "from sklearn.metrics import f1_score, accuracy_score, roc_curve, roc_auc_score\n",
    "\n",
    "import numpy as np\n",
    "\n",
    "import urllib3, requests, json"
   ]
  },
  {
   "cell_type": "markdown",
   "metadata": {
    "deletable": true,
    "editable": true
   },
   "source": [
    "## Load Customer History Data"
   ]
  },
  {
   "cell_type": "code",
   "execution_count": null,
   "metadata": {
    "collapsed": false,
    "deletable": true,
    "editable": true,
    "scrolled": true
   },
   "outputs": [],
   "source": [
    "cust_pd = pd.read_csv('../datasets/customer_history.csv')\n",
    "cust_pd.head()"
   ]
  },
  {
   "cell_type": "markdown",
   "metadata": {
    "deletable": true,
    "editable": true
   },
   "source": [
    "### Dataset Overview"
   ]
  },
  {
   "cell_type": "markdown",
   "metadata": {
    "deletable": true,
    "editable": true
   },
   "source": [
    "Let's take a quick look at the dataset."
   ]
  },
  {
   "cell_type": "code",
   "execution_count": null,
   "metadata": {
    "collapsed": false,
    "deletable": true,
    "editable": true,
    "scrolled": false
   },
   "outputs": [],
   "source": [
    "print \"There are \" + str(len(cust_pd)) + \" observations in the customer history dataset.\"\n",
    "print \"There are \" + str(len(cust_pd.columns)) + \" variables in the dataset.\"\n",
    "\n",
    "print \"\\n******************Descriptive statistics*****************************\\n\"\n",
    "print cust_pd.describe()\n",
    "\n",
    "print \"\\n******************Dataset Quick View*****************************\\n\"\n",
    "cust_pd.head()"
   ]
  },
  {
   "cell_type": "markdown",
   "metadata": {
    "collapsed": true,
    "deletable": true,
    "editable": true
   },
   "source": [
    "## Exploratory Data Analysis\n",
    "\n",
    "In this section, we will explore the dataset further with some visualizations.\n",
    "\n",
    "Two open source libraries are used:\n",
    "* <a href=\"https://github.com/Brunel-Visualization/Brunel\">Brunel</a> is a high-level language that describes visualizations in terms of composable actions. It drives a visualization engine (D3) that performs the actual rendering and interactivity. Brunel makes it much easier to build fun and inventive visualizations in Jupyter notebooks.\n",
    "\n",
    "* <a href=\"https://seaborn.pydata.org/\">Seaborn</a> is a Python visualization library based on matplotlib. It provides a high-level interface for drawing attractive statistical graphics."
   ]
  },
  {
   "cell_type": "markdown",
   "metadata": {
    "deletable": true,
    "editable": true
   },
   "source": [
    "### Outcome Variable: Account Default"
   ]
  },
  {
   "cell_type": "code",
   "execution_count": null,
   "metadata": {
    "collapsed": false,
    "deletable": true,
    "editable": true
   },
   "outputs": [],
   "source": [
    "%brunel data('cust_pd') x(IS_DEFAULT) y(#count) color(IS_DEFAULT) bar tooltip(#all)"
   ]
  },
  {
   "cell_type": "markdown",
   "metadata": {
    "deletable": true,
    "editable": true
   },
   "source": [
    "As you can see from the bar chart, 300 out of 1000 accounts are in default."
   ]
  },
  {
   "cell_type": "markdown",
   "metadata": {
    "deletable": true,
    "editable": true
   },
   "source": [
    "### Default by Credit Program"
   ]
  },
  {
   "cell_type": "code",
   "execution_count": null,
   "metadata": {
    "collapsed": false,
    "deletable": true,
    "editable": true
   },
   "outputs": [],
   "source": [
    "%brunel data('cust_pd') polar stack bar y(#count) color(CREDIT_PROGRAM) percent(#count) tooltip(#all) | stack bar x(CREDIT_PROGRAM) y(#count) color(IS_DEFAULT) bin(CREDIT_PROGRAM) percent(#count) label(#count) tooltip(#all) :: width=1200, height=350 "
   ]
  },
  {
   "cell_type": "markdown",
   "metadata": {
    "deletable": true,
    "editable": true
   },
   "source": [
    "* Top 3 credit programs with most Merchants are Electronics(28%), New Car(23.4%) and Furniture(18.1%).\n",
    "* Top 3 credit programs with high default rate are Education(44%), New Car(38%), and Retraining(35.1%)"
   ]
  },
  {
   "cell_type": "markdown",
   "metadata": {
    "deletable": true,
    "editable": true
   },
   "source": [
    "### HISTORY vs. IS_DEFAULT"
   ]
  },
  {
   "cell_type": "code",
   "execution_count": null,
   "metadata": {
    "collapsed": false,
    "deletable": true,
    "editable": true
   },
   "outputs": [],
   "source": [
    "%brunel data('cust_pd') bar x(HISTORY) y(#count) color(HISTORY) tooltip(#all) | stack bar x(HISTORY) y(#count) color(IS_DEFAULT: green-red) bin(HISTORY) sort(HISTORY) percent(#count) label(#count) tooltip(#all) :: width=1200, height=350 "
   ]
  },
  {
   "cell_type": "markdown",
   "metadata": {
    "deletable": true,
    "editable": true
   },
   "source": [
    "### AMOUNT_K_USD vs. IS_DEFAULT"
   ]
  },
  {
   "cell_type": "code",
   "execution_count": null,
   "metadata": {
    "collapsed": false,
    "deletable": true,
    "editable": true
   },
   "outputs": [],
   "source": [
    "sub_yes = cust_pd[cust_pd[\"IS_DEFAULT\"] == \"Yes\"]\n",
    "sub_no = cust_pd[cust_pd[\"IS_DEFAULT\"] == \"No\"]\n",
    "    \n",
    "p_value = ttest_ind(sub_yes['AMOUNT_K_USD'], sub_no[\"AMOUNT_K_USD\"], equal_var = False)[1]\n",
    "\n",
    "fig, axs = plt.subplots(nrows= 1, figsize=(13, 5))\n",
    "sns.boxplot(x = \"IS_DEFAULT\", y = \"AMOUNT_K_USD\", data = cust_pd, showfliers=False, palette=\"Set2\")\n",
    "if p_value < .05:\n",
    "    plt.title(\"AMOUNT_K_USD\" + \"\\n P value:\" + str(p_value) + \"\\n The distributions for the two groups are significantly different!\" + \"\\n Default: mean/std.: \" + str(sub_yes[\"AMOUNT_K_USD\"].describe()[1]) + \"/\" + str(sub_yes[\"AMOUNT_K_USD\"].describe()[2]) + \"\\n Non-default: mean/std.: \" + str(sub_no[\"AMOUNT_K_USD\"].describe()[1]) + \"/\" + str(sub_no[\"AMOUNT_K_USD\"].describe()[2]))\n",
    "else:\n",
    "    plt.title(\"AMOUNT_K_USD\" + \"\\n P value:\" + str(p_value) + \"\\n Default: mean/std.: \" + str(sub_yes[\"AMOUNT_K_USD\"].describe()[1]) + \"/\" + str(sub_yes[\"AMOUNT_K_USD\"].describe()[2]) + \"\\n Non-default: mean/std.: \" + str(sub_safe[\"AMOUNT_K_USD\"].describe()[1]) + \"/\" + str(sub_no[\"AMOUNT_K_USD\"].describe()[2]))           "
   ]
  },
  {
   "cell_type": "markdown",
   "metadata": {
    "deletable": true,
    "editable": true
   },
   "source": [
    "In this box plot, the visualization is enhanced by T-test statistics. The result is significant which indicates that the average credit amount for the non-default group and default group are different. Default group has larger average credit amount.\n",
    "\n"
   ]
  },
  {
   "cell_type": "markdown",
   "metadata": {
    "deletable": true,
    "editable": true
   },
   "source": [
    "### Default rate by state"
   ]
  },
  {
   "cell_type": "code",
   "execution_count": null,
   "metadata": {
    "collapsed": false,
    "deletable": true,
    "editable": true
   },
   "outputs": [],
   "source": [
    "default_rate = pd.crosstab(cust_pd.IS_DEFAULT, cust_pd.STATE).apply(lambda r: r/r.sum(), axis=0)\n",
    "\n",
    "default_rate2 = default_rate.T\n",
    "\n",
    "%brunel data('default_rate2') map color(Yes) key(STATE) label(STATE)\n"
   ]
  },
  {
   "cell_type": "markdown",
   "metadata": {
    "deletable": true,
    "editable": true
   },
   "source": [
    "Brunel also provides a very neat way for map visualization. So for this use case, all the Merchants come from 4 states: NY, NJ, PA and CT."
   ]
  },
  {
   "cell_type": "markdown",
   "metadata": {
    "deletable": true,
    "editable": true
   },
   "source": [
    "### Correlation Matrix\n",
    "\n",
    "A heatmap is used to visualize the correlations between all continuous variables."
   ]
  },
  {
   "cell_type": "code",
   "execution_count": null,
   "metadata": {
    "collapsed": false,
    "deletable": true,
    "editable": true
   },
   "outputs": [],
   "source": [
    "plt.figure(figsize=(12, 8))\n",
    "\n",
    "corr_df = cust_pd.iloc[:,1:].corr()\n",
    "\n",
    "sns.heatmap(corr_df, \n",
    "            xticklabels = corr_df.columns.values,\n",
    "            yticklabels = corr_df.columns.values,\n",
    "            annot = True);\n"
   ]
  },
  {
   "cell_type": "markdown",
   "metadata": {
    "deletable": true,
    "editable": true
   },
   "source": [
    "* There is no strong correlation between most variables.\n",
    "* The correlation between AMOUNT_K_USD and CONTRACT_DURATION_MONTH is moderate."
   ]
  },
  {
   "cell_type": "markdown",
   "metadata": {
    "deletable": true,
    "editable": true
   },
   "source": [
    "## Modeling And Evaluation"
   ]
  },
  {
   "cell_type": "markdown",
   "metadata": {
    "deletable": true,
    "editable": true
   },
   "source": [
    "### Sklearn Random Forest"
   ]
  },
  {
   "cell_type": "code",
   "execution_count": null,
   "metadata": {
    "collapsed": false,
    "deletable": true,
    "editable": true
   },
   "outputs": [],
   "source": [
    "# convert IS_DEFAULT to 1/0\n",
    "le = LabelEncoder()\n",
    "\n",
    "cust_pd.loc[:,'IS_DEFAULT']= le.fit_transform(cust_pd.loc[:,'IS_DEFAULT'])\n",
    "\n",
    "y = np.float32(cust_pd.IS_DEFAULT)\n",
    "\n",
    "# drop y and merchant\n",
    "X = cust_pd.drop(['IS_DEFAULT', 'MERCHANT'], axis = 1)\n"
   ]
  },
  {
   "cell_type": "code",
   "execution_count": null,
   "metadata": {
    "collapsed": true,
    "deletable": true,
    "editable": true
   },
   "outputs": [],
   "source": [
    "from sklearn_pandas import DataFrameMapper\n",
    "\n",
    "mapper = DataFrameMapper(\n",
    "    [('ACCT_STATUS_K_USD', LabelEncoder()),\n",
    "     ('CONTRACT_DURATION_MONTH', None),\n",
    "     ('HISTORY',LabelEncoder()),\n",
    "     ('CREDIT_PROGRAM', LabelEncoder()),\n",
    "     ('AMOUNT_K_USD',None),\n",
    "     ('ACCOUNT_TYPE',LabelEncoder()),\n",
    "     ('ACCT_AGE',LabelEncoder()),\n",
    "     ('STATE',LabelEncoder()),\n",
    "     ('PRESENT_RESIDENT',LabelEncoder()),\n",
    "     ('ESTABLISHED_MONTH',None),\n",
    "     ('NUMBER_CREDITS',None)]\n",
    ")"
   ]
  },
  {
   "cell_type": "code",
   "execution_count": null,
   "metadata": {
    "collapsed": true,
    "deletable": true,
    "editable": true
   },
   "outputs": [],
   "source": [
    "# split the data to training and testing set\n",
    "X_train, X_test, y_train, y_test = train_test_split(X, y, test_size=0.2, random_state=42, stratify=y)"
   ]
  },
  {
   "cell_type": "code",
   "execution_count": null,
   "metadata": {
    "collapsed": false,
    "deletable": true,
    "editable": true
   },
   "outputs": [],
   "source": [
    "import sklearn.pipeline\n",
    "from sklearn.preprocessing import OneHotEncoder\n",
    "\n",
    "random_forest = RandomForestClassifier()\n",
    "steps = [('mapper', mapper),('RandonForestClassifier', random_forest)]\n",
    "pipeline = sklearn.pipeline.Pipeline(steps)\n",
    "model=pipeline.fit( X_train, y_train )\n",
    "model"
   ]
  },
  {
   "cell_type": "code",
   "execution_count": null,
   "metadata": {
    "collapsed": false,
    "deletable": true,
    "editable": true
   },
   "outputs": [],
   "source": [
    "### call pipeline.predict() on your X_test data to make a set of test predictions\n",
    "y_prediction = pipeline.predict( X_test )\n",
    "### test your predictions using sklearn.classification_report()\n",
    "report = sklearn.metrics.classification_report( y_test, y_prediction )\n",
    "### and print the report\n",
    "print(report)"
   ]
  },
  {
   "cell_type": "markdown",
   "metadata": {
    "collapsed": true,
    "deletable": true,
    "editable": true
   },
   "source": [
    "### Save model to ML Repository"
   ]
  },
  {
   "cell_type": "code",
   "execution_count": null,
   "metadata": {
    "collapsed": false,
    "deletable": true,
    "editable": true
   },
   "outputs": [],
   "source": [
    "#convert the y_test array into a pandas dataframe\n",
    "y_test_df = pd.DataFrame(y_test,columns=['IS_DEFAULT'])"
   ]
  },
  {
   "cell_type": "code",
   "execution_count": null,
   "metadata": {
    "collapsed": false,
    "deletable": true,
    "editable": true
   },
   "outputs": [],
   "source": [
    "from dsx_ml.ml import save\n",
    "\n",
    "model_name = \"CreditCard_Default_Model\"\n",
    "save(model = model, name = model_name, x_test=X_test, y_test=y_test_df, algorithm_type = 'Classification')"
   ]
  },
  {
   "cell_type": "markdown",
   "metadata": {
    "collapsed": true,
    "deletable": true,
    "editable": true
   },
   "source": [
    "### Test Saved Model with Test UI\n",
    "1. Save the notebook and switch to the **Models** tab of the project (**hint**: right click the project name link, DSX_Local_Workshop, at the top, and open with another tab in your browser). \n",
    "2. Under **Models**, find and click into your saved model. \n",
    "3. Click the **Test** link to test the model. \n",
    "4. When you enter values for String variabes, **don't** include quotes. \n",
    "\n",
    "You can use the following data for testing (please note that the order of fields may be different in the UI):<br/>\n",
    "`ACCT_STATUS_K_USD='0 to 200 USD', HISTORY='CRITICAL ACCOUNT', CREDIT_PROGRAM='NEW CAR', ACCOUNT_TYPE='UNKNOWN/NONE', ACCT_AGE='4 to 7 YRS', STATE='NY', PRESENT_RESIDENT='2 to 3 YRS', CONTRACT_DURATION_MONTH=3, AMOUNT_K_USD=10000, ESTABLISHED_MONTH=40, NUMBER_CREDITS=2`\n",
    "\n",
    "The results of the test is displayed as follows:<br/>\n",
    "<img style=\"float: left;\" src=\"https://github.com/elenalowery/DSX_Local_Workshop/blob/master/img/CC_Test.JPG?raw=true\" alt=\"Test API\" width=900 />"
   ]
  },
  {
   "cell_type": "markdown",
   "metadata": {
    "deletable": true,
    "editable": true
   },
   "source": [
    "### Test the model with REST API (Optional)\n",
    "This step demonstrates an \"internal REST API\" call to test the model (for an unpublished model). Notice that we are using DSX variables for the model endpoint and token. See documentation for external REST call syntax. An exernal REST call will have a different end point and will require authentication. "
   ]
  },
  {
   "cell_type": "code",
   "execution_count": 3,
   "metadata": {
    "collapsed": true,
    "deletable": true,
    "editable": true
   },
   "outputs": [],
   "source": [
    "json_payload =[{\n",
    "    \"MERCHANT\":999,\n",
    "    \"ACCT_STATUS_K_USD\":\"0 USD\",\n",
    "    \"CONTRACT_DURATION_MONTH\":12,\n",
    "    \"HISTORY\":\"CRITICAL ACCOUNT\",\n",
    "    \"CREDIT_PROGRAM\":\"NEW CAR\",\n",
    "    \"AMOUNT_K_USD\":2171,\n",
    "    \"ACCOUNT_TYPE\":\"up to 100 K USD\",\n",
    "    \"ACCT_AGE\":\"1 to 4 YRS\",\n",
    "    \"STATE\":\"NY\",\n",
    "    \"IS_URBAN\":\"NO\",\n",
    "    \"IS_XBORDER\":\"NO\",\n",
    "    \"SELF_REPORTED_ASMT\":\"NO\",\n",
    "    \"CO_APPLICANT\":\"YES\",\n",
    "    \"GUARANTOR\":\"NO\",\n",
    "    \"PRESENT_RESIDENT\":\"4\",\n",
    "    \"OWN_REAL_ESTATE\":\"NO\",\n",
    "    \"PROP_UNKN\":\"NO\",\n",
    "    \"ESTABLISHED_MONTH\":38,\n",
    "    \"OTHER_INSTALL_PLAN\":\"NO\",\n",
    "    \"RENT\":\"NO\",\n",
    "    \"OWN_RESIDENCE\":\"YES\",\n",
    "    \"NUMBER_CREDITS\":2,\n",
    "    \"RFM_SCORE\":2,\n",
    "    \"BRANCHES\":1,\n",
    "    \"TELEPHONE\":\"YES\",\n",
    "    \"SHIP_INTERNATIONAL\":\"NO\"}]"
   ]
  },
  {
   "cell_type": "markdown",
   "metadata": {
    "deletable": true,
    "editable": true
   },
   "source": [
    "**Action Required**: Change the *scoring_endpoint* to the value that's shown as the *scoring_endpoint* afer running Save to ML repository function, for example *'scoring_endpoint': 'https://dsxl-api.ibm-private-cloud.svc.cluster.local/v3/project/score/Python27/scikit-learn-0.19/DSX_Local_Workshop_el/CreditCard_Default_Model/1'*. "
   ]
  },
  {
   "cell_type": "code",
   "execution_count": 4,
   "metadata": {
    "collapsed": false,
    "deletable": true,
    "editable": true
   },
   "outputs": [
    {
     "ename": "ConnectionError",
     "evalue": "HTTPSConnectionPool(host='ibm-nginx-svc.ibm-private-cloud.svc.cluster.local', port=443): Max retries exceeded with url: /v3/project/score/Python27/scikit-learn-0.19/DSX_Local_Workshop_el/CreditCard_Default_Model/1 (Caused by NewConnectionError('<urllib3.connection.VerifiedHTTPSConnection object at 0x7f6c0d825d10>: Failed to establish a new connection: [Errno -2] Name or service not known',))",
     "output_type": "error",
     "traceback": [
      "\u001b[0;31m\u001b[0m",
      "\u001b[0;31mConnectionError\u001b[0mTraceback (most recent call last)",
      "\u001b[0;32m<ipython-input-4-29d42d50363a>\u001b[0m in \u001b[0;36m<module>\u001b[0;34m()\u001b[0m\n\u001b[1;32m      6\u001b[0m \u001b[0mheader_online\u001b[0m \u001b[0;34m=\u001b[0m \u001b[0;34m{\u001b[0m\u001b[0;34m'Content-Type'\u001b[0m\u001b[0;34m:\u001b[0m \u001b[0;34m'application/json'\u001b[0m\u001b[0;34m,\u001b[0m \u001b[0;34m'Authorization'\u001b[0m\u001b[0;34m:\u001b[0m\u001b[0mos\u001b[0m\u001b[0;34m.\u001b[0m\u001b[0menviron\u001b[0m\u001b[0;34m[\u001b[0m\u001b[0;34m'DSX_TOKEN'\u001b[0m\u001b[0;34m]\u001b[0m\u001b[0;34m}\u001b[0m\u001b[0;34m\u001b[0m\u001b[0m\n\u001b[1;32m      7\u001b[0m \u001b[0;34m\u001b[0m\u001b[0m\n\u001b[0;32m----> 8\u001b[0;31m \u001b[0mresponse_scoring\u001b[0m \u001b[0;34m=\u001b[0m \u001b[0mrequests\u001b[0m\u001b[0;34m.\u001b[0m\u001b[0mpost\u001b[0m\u001b[0;34m(\u001b[0m\u001b[0monline_path\u001b[0m\u001b[0;34m,\u001b[0m \u001b[0mjson\u001b[0m\u001b[0;34m=\u001b[0m\u001b[0mjson_payload\u001b[0m\u001b[0;34m,\u001b[0m \u001b[0mheaders\u001b[0m\u001b[0;34m=\u001b[0m\u001b[0mheader_online\u001b[0m\u001b[0;34m)\u001b[0m\u001b[0;34m\u001b[0m\u001b[0m\n\u001b[0m\u001b[1;32m      9\u001b[0m \u001b[0;34m\u001b[0m\u001b[0m\n\u001b[1;32m     10\u001b[0m \u001b[0mresponse_dict\u001b[0m \u001b[0;34m=\u001b[0m \u001b[0mjson\u001b[0m\u001b[0;34m.\u001b[0m\u001b[0mloads\u001b[0m\u001b[0;34m(\u001b[0m\u001b[0mresponse_scoring\u001b[0m\u001b[0;34m.\u001b[0m\u001b[0mcontent\u001b[0m\u001b[0;34m)\u001b[0m\u001b[0;34m\u001b[0m\u001b[0m\n",
      "\u001b[0;32m/opt/conda/lib/python2.7/site-packages/requests/api.pyc\u001b[0m in \u001b[0;36mpost\u001b[0;34m(url, data, json, **kwargs)\u001b[0m\n\u001b[1;32m    110\u001b[0m     \"\"\"\n\u001b[1;32m    111\u001b[0m \u001b[0;34m\u001b[0m\u001b[0m\n\u001b[0;32m--> 112\u001b[0;31m     \u001b[0;32mreturn\u001b[0m \u001b[0mrequest\u001b[0m\u001b[0;34m(\u001b[0m\u001b[0;34m'post'\u001b[0m\u001b[0;34m,\u001b[0m \u001b[0murl\u001b[0m\u001b[0;34m,\u001b[0m \u001b[0mdata\u001b[0m\u001b[0;34m=\u001b[0m\u001b[0mdata\u001b[0m\u001b[0;34m,\u001b[0m \u001b[0mjson\u001b[0m\u001b[0;34m=\u001b[0m\u001b[0mjson\u001b[0m\u001b[0;34m,\u001b[0m \u001b[0;34m**\u001b[0m\u001b[0mkwargs\u001b[0m\u001b[0;34m)\u001b[0m\u001b[0;34m\u001b[0m\u001b[0m\n\u001b[0m\u001b[1;32m    113\u001b[0m \u001b[0;34m\u001b[0m\u001b[0m\n\u001b[1;32m    114\u001b[0m \u001b[0;34m\u001b[0m\u001b[0m\n",
      "\u001b[0;32m/opt/conda/lib/python2.7/site-packages/requests/api.pyc\u001b[0m in \u001b[0;36mrequest\u001b[0;34m(method, url, **kwargs)\u001b[0m\n\u001b[1;32m     56\u001b[0m     \u001b[0;31m# cases, and look like a memory leak in others.\u001b[0m\u001b[0;34m\u001b[0m\u001b[0;34m\u001b[0m\u001b[0m\n\u001b[1;32m     57\u001b[0m     \u001b[0;32mwith\u001b[0m \u001b[0msessions\u001b[0m\u001b[0;34m.\u001b[0m\u001b[0mSession\u001b[0m\u001b[0;34m(\u001b[0m\u001b[0;34m)\u001b[0m \u001b[0;32mas\u001b[0m \u001b[0msession\u001b[0m\u001b[0;34m:\u001b[0m\u001b[0;34m\u001b[0m\u001b[0m\n\u001b[0;32m---> 58\u001b[0;31m         \u001b[0;32mreturn\u001b[0m \u001b[0msession\u001b[0m\u001b[0;34m.\u001b[0m\u001b[0mrequest\u001b[0m\u001b[0;34m(\u001b[0m\u001b[0mmethod\u001b[0m\u001b[0;34m=\u001b[0m\u001b[0mmethod\u001b[0m\u001b[0;34m,\u001b[0m \u001b[0murl\u001b[0m\u001b[0;34m=\u001b[0m\u001b[0murl\u001b[0m\u001b[0;34m,\u001b[0m \u001b[0;34m**\u001b[0m\u001b[0mkwargs\u001b[0m\u001b[0;34m)\u001b[0m\u001b[0;34m\u001b[0m\u001b[0m\n\u001b[0m\u001b[1;32m     59\u001b[0m \u001b[0;34m\u001b[0m\u001b[0m\n\u001b[1;32m     60\u001b[0m \u001b[0;34m\u001b[0m\u001b[0m\n",
      "\u001b[0;32m/opt/conda/lib/python2.7/site-packages/requests/sessions.pyc\u001b[0m in \u001b[0;36mrequest\u001b[0;34m(self, method, url, params, data, headers, cookies, files, auth, timeout, allow_redirects, proxies, hooks, stream, verify, cert, json)\u001b[0m\n\u001b[1;32m    506\u001b[0m         }\n\u001b[1;32m    507\u001b[0m         \u001b[0msend_kwargs\u001b[0m\u001b[0;34m.\u001b[0m\u001b[0mupdate\u001b[0m\u001b[0;34m(\u001b[0m\u001b[0msettings\u001b[0m\u001b[0;34m)\u001b[0m\u001b[0;34m\u001b[0m\u001b[0m\n\u001b[0;32m--> 508\u001b[0;31m         \u001b[0mresp\u001b[0m \u001b[0;34m=\u001b[0m \u001b[0mself\u001b[0m\u001b[0;34m.\u001b[0m\u001b[0msend\u001b[0m\u001b[0;34m(\u001b[0m\u001b[0mprep\u001b[0m\u001b[0;34m,\u001b[0m \u001b[0;34m**\u001b[0m\u001b[0msend_kwargs\u001b[0m\u001b[0;34m)\u001b[0m\u001b[0;34m\u001b[0m\u001b[0m\n\u001b[0m\u001b[1;32m    509\u001b[0m \u001b[0;34m\u001b[0m\u001b[0m\n\u001b[1;32m    510\u001b[0m         \u001b[0;32mreturn\u001b[0m \u001b[0mresp\u001b[0m\u001b[0;34m\u001b[0m\u001b[0m\n",
      "\u001b[0;32m/opt/conda/lib/python2.7/site-packages/requests/sessions.pyc\u001b[0m in \u001b[0;36msend\u001b[0;34m(self, request, **kwargs)\u001b[0m\n\u001b[1;32m    616\u001b[0m \u001b[0;34m\u001b[0m\u001b[0m\n\u001b[1;32m    617\u001b[0m         \u001b[0;31m# Send the request\u001b[0m\u001b[0;34m\u001b[0m\u001b[0;34m\u001b[0m\u001b[0m\n\u001b[0;32m--> 618\u001b[0;31m         \u001b[0mr\u001b[0m \u001b[0;34m=\u001b[0m \u001b[0madapter\u001b[0m\u001b[0;34m.\u001b[0m\u001b[0msend\u001b[0m\u001b[0;34m(\u001b[0m\u001b[0mrequest\u001b[0m\u001b[0;34m,\u001b[0m \u001b[0;34m**\u001b[0m\u001b[0mkwargs\u001b[0m\u001b[0;34m)\u001b[0m\u001b[0;34m\u001b[0m\u001b[0m\n\u001b[0m\u001b[1;32m    619\u001b[0m \u001b[0;34m\u001b[0m\u001b[0m\n\u001b[1;32m    620\u001b[0m         \u001b[0;31m# Total elapsed time of the request (approximately)\u001b[0m\u001b[0;34m\u001b[0m\u001b[0;34m\u001b[0m\u001b[0m\n",
      "\u001b[0;32m/opt/conda/lib/python2.7/site-packages/requests/adapters.pyc\u001b[0m in \u001b[0;36msend\u001b[0;34m(self, request, stream, timeout, verify, cert, proxies)\u001b[0m\n\u001b[1;32m    506\u001b[0m                 \u001b[0;32mraise\u001b[0m \u001b[0mSSLError\u001b[0m\u001b[0;34m(\u001b[0m\u001b[0me\u001b[0m\u001b[0;34m,\u001b[0m \u001b[0mrequest\u001b[0m\u001b[0;34m=\u001b[0m\u001b[0mrequest\u001b[0m\u001b[0;34m)\u001b[0m\u001b[0;34m\u001b[0m\u001b[0m\n\u001b[1;32m    507\u001b[0m \u001b[0;34m\u001b[0m\u001b[0m\n\u001b[0;32m--> 508\u001b[0;31m             \u001b[0;32mraise\u001b[0m \u001b[0mConnectionError\u001b[0m\u001b[0;34m(\u001b[0m\u001b[0me\u001b[0m\u001b[0;34m,\u001b[0m \u001b[0mrequest\u001b[0m\u001b[0;34m=\u001b[0m\u001b[0mrequest\u001b[0m\u001b[0;34m)\u001b[0m\u001b[0;34m\u001b[0m\u001b[0m\n\u001b[0m\u001b[1;32m    509\u001b[0m \u001b[0;34m\u001b[0m\u001b[0m\n\u001b[1;32m    510\u001b[0m         \u001b[0;32mexcept\u001b[0m \u001b[0mClosedPoolError\u001b[0m \u001b[0;32mas\u001b[0m \u001b[0me\u001b[0m\u001b[0;34m:\u001b[0m\u001b[0;34m\u001b[0m\u001b[0m\n",
      "\u001b[0;31mConnectionError\u001b[0m: HTTPSConnectionPool(host='ibm-nginx-svc.ibm-private-cloud.svc.cluster.local', port=443): Max retries exceeded with url: /v3/project/score/Python27/scikit-learn-0.19/DSX_Local_Workshop_el/CreditCard_Default_Model/1 (Caused by NewConnectionError('<urllib3.connection.VerifiedHTTPSConnection object at 0x7f6c0d825d10>: Failed to establish a new connection: [Errno -2] Name or service not known',))"
     ]
    }
   ],
   "source": [
    "import requests, json, os\n",
    "from pprint import pprint\n",
    "\n",
    "online_path = 'https://ibm-nginx-svc.ibm-private-cloud.svc.cluster.local/v3/project/score/Python27/scikit-learn-0.19/DSX_Local_Workshop_el/CreditCard_Default_Model/1'\n",
    "\n",
    "header_online = {'Content-Type': 'application/json', 'Authorization':os.environ['DSX_TOKEN']}\n",
    "\n",
    "response_scoring = requests.post(online_path, json=json_payload, headers=header_online)\n",
    "\n",
    "response_dict = json.loads(response_scoring.content)\n",
    "\n",
    "n = 1\n",
    "for response in response_dict['object']['output']['predictions']:\n",
    "    print(\"{}. {}\".format(n,response))\n",
    "    n+=1"
   ]
  },
  {
   "cell_type": "markdown",
   "metadata": {
    "deletable": true,
    "editable": true
   },
   "source": [
    "**The prediction of 1 means that the cusotmer is likely to default on the credit card, and 0 that they will not.**"
   ]
  },
  {
   "cell_type": "markdown",
   "metadata": {
    "deletable": true,
    "editable": true
   },
   "source": [
    "Created by **Catherine Cao** and **Sidney Phoon**\n",
    "<br/>\n",
    "catherine.cao@ibm.com<br/>\n",
    "yfphoon@us.ibm.com<br/>\n",
    "\n",
    "Dec 29, 2017"
   ]
  }
 ],
 "metadata": {
  "kernelspec": {
   "display_name": "Python2.7 with DSX Spark 2.0.2",
   "language": "python",
   "name": "python2"
  },
  "language_info": {
   "codemirror_mode": {
    "name": "ipython",
    "version": 2
   },
   "file_extension": ".py",
   "mimetype": "text/x-python",
   "name": "python",
   "nbconvert_exporter": "python",
   "pygments_lexer": "ipython2",
   "version": "2.7.13"
  }
 },
 "nbformat": 4,
 "nbformat_minor": 1
}
